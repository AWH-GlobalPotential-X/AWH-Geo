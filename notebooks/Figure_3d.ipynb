{
  "nbformat": 4,
  "nbformat_minor": 0,
  "metadata": {
    "colab": {
      "name": "Figure 3d.ipynb",
      "provenance": [],
      "authorship_tag": "ABX9TyO0OKnFG9qXmqjIqNY3w5WA",
      "include_colab_link": true
    },
    "kernelspec": {
      "name": "python3",
      "display_name": "Python 3"
    }
  },
  "cells": [
    {
      "cell_type": "markdown",
      "metadata": {
        "id": "view-in-github",
        "colab_type": "text"
      },
      "source": [
        "<a href=\"https://colab.research.google.com/github/AWH-GlobalPotential-X/AWH-Geo/blob/main/Figure_3d.ipynb\" target=\"_parent\"><img src=\"https://colab.research.google.com/assets/colab-badge.svg\" alt=\"Open In Colab\"/></a>"
      ]
    },
    {
      "cell_type": "markdown",
      "metadata": {
        "id": "w8MdDm2TxbJL"
      },
      "source": [
        "# Specific yields by curves"
      ]
    },
    {
      "cell_type": "code",
      "metadata": {
        "id": "IXG_zXnrdRIK"
      },
      "source": [
        "import matplotlib.pyplot as plt\n",
        "import mizani\n",
        "import numpy as np\n",
        "import pandas as pd\n",
        "import plotnine as gg\n",
        "from matplotlib import colors\n",
        "from scipy import interpolate\n",
        "\n",
        "from IPython.display import display"
      ],
      "execution_count": null,
      "outputs": []
    },
    {
      "cell_type": "code",
      "metadata": {
        "id": "aZOOdeINxhY7"
      },
      "source": [
        "logistic_params = {\n",
        "    '1.5 bil. ppl (logistic)': {\n",
        "      'L': 5,  # L.kWh^-1\n",
        "      'x0': 60,  # midpoint in percentage\n",
        "      'k': 0.1,  # growth rate\n",
        "    },\n",
        "    '1.0 bil. ppl (logistic)': {\n",
        "      'L': 3.4,  # L.kWh^-1\n",
        "      'x0': 60,  # midpoint in percentage\n",
        "      'k': 0.1,  # growth rate\n",
        "    },\n",
        "    '0.5 bil. ppl (logistic)': {\n",
        "      'L': 1.9,  # L.kWh^-1\n",
        "      'x0': 60,  # midpoint in percentage\n",
        "      'k': 0.1,  # growth rate\n",
        "    }\n",
        "}\n",
        "\n",
        "linear_params = {\n",
        "    '1.5 bil. ppl (linear)': {\n",
        "      'Max': 2.6,  # L.kWh^-1\n",
        "      'a': 0.026,\n",
        "      'b': 0.0,\n",
        "    },\n",
        "    '1.0 bil. ppl (linear)': {\n",
        "      'Max': 2.1,  # L.kWh^-1\n",
        "      'a': 0.021,\n",
        "      'b': 0.0,\n",
        "    },\n",
        "    '0.5 bil. ppl (linear)': {\n",
        "      'Max': 1.6,  # L.kWh^-1\n",
        "      'a': 0.016,\n",
        "      'b': 0.0,\n",
        "    }\n",
        "}\n",
        "\n",
        "df_yields = pd.DataFrame({\n",
        "    'rH': [10, 20, 30, 40, 50, 60, 70, 80, 90, 100],\n",
        "    'SMAG_Zhao': [None, None, 0.21, None, None, 3.71, None, None, 9.28, None],\n",
        "    'ZMW': [0.19, 0.24, 0.28, 0.33, 0.42, 0.44, 0.47, 0.5, 0.53, None],\n",
        "    'Bagheri': [None, None, 0.27, None, None, 0.67, None, None, None, None],\n",
        "    'MOFs': [None, 0.19, None, None, None, None, 0.84, None, None, None],\n",
        "})"
      ],
      "execution_count": null,
      "outputs": []
    },
    {
      "cell_type": "code",
      "metadata": {
        "id": "gsAvQ9QP0v4L"
      },
      "source": [
        "df_tidy = pd.melt(df_yields,\n",
        "        id_vars=['rH'],\n",
        "        value_vars=['SMAG_Zhao', 'ZMW', 'Bagheri', 'MOFs'],\n",
        "        var_name='device',\n",
        "        value_name='yield')\n",
        "df_tidy.head()"
      ],
      "execution_count": null,
      "outputs": []
    },
    {
      "cell_type": "code",
      "metadata": {
        "id": "V-I60eNl1sB9"
      },
      "source": [
        "df_fits = pd.DataFrame()\n",
        "x = np.linspace(0, 100, num=200)\n",
        "df_fits['rH'] = x\n",
        "\n",
        "for name, params in logistic_params.items():\n",
        "  df_fits[name] = params['L']/(1 + np.exp(-params['k']*(x- params['x0'])))\n",
        "\n",
        "for name, params in linear_params.items():\n",
        "  df_fits[name] = params['a']*x + params['b']\n",
        "\n",
        "df_fits_tidy = pd.melt(df_fits,\n",
        "                       id_vars=['rH'],\n",
        "                       value_vars=list(logistic_params.keys()) + list(linear_params.keys()),\n",
        "                       var_name='fit',\n",
        "                       value_name='yield')\n",
        "df_fits_tidy['fit_type'] = df_fits_tidy.fit.apply(lambda x: 'logistic' if 'logistic' in x else 'linear')\n",
        "\n",
        "df_fits_tidy.head()"
      ],
      "execution_count": null,
      "outputs": []
    },
    {
      "cell_type": "code",
      "metadata": {
        "id": "4xcNo6_dza8V"
      },
      "source": [
        "from itertools import cycle\n",
        "\n",
        "p = (gg.ggplot(gg.aes(x='rH'))\n",
        "    + gg.geom_point(df_tidy, gg.aes(y='yield', shape='device'),\n",
        "                    color='black', size=4, alpha=0.6, show_legend=True)\n",
        "    + gg.geom_line(df_fits_tidy, gg.aes(y='yield', color='fit', linetype='fit_type'),\n",
        "                   size=1, show_legend=True)\n",
        "    + gg.scale_y_log10(limits=(0.1, 10))\n",
        "    + gg.scale_x_continuous(breaks=np.linspace(0, 100, num=11),\n",
        "                            limits=(10, 100))\n",
        "    + gg.scale_color_manual(['#4a86e8', '#4a86e8', '#ff0101', '#ff0101', '#35a754', '#35a754'])\n",
        "    + gg.theme_minimal()\n",
        "    + gg.theme(figure_size=(8, 8))\n",
        "    + gg.labs(title='Specific Yield by curve [L/kWh]',\n",
        "              x='relative humidity',\n",
        "              y='Specific Yield [L/kWh]')\n",
        ")\n",
        "\n",
        "print(p)"
      ],
      "execution_count": null,
      "outputs": []
    }
  ]
}