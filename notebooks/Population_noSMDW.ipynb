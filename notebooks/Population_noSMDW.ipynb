{
  "nbformat": 4,
  "nbformat_minor": 0,
  "metadata": {
    "colab": {
      "name": "Population_noSMDW",
      "provenance": [],
      "collapsed_sections": [],
      "include_colab_link": true
    },
    "kernelspec": {
      "name": "python3",
      "display_name": "Python 3"
    }
  },
  "cells": [
    {
      "cell_type": "markdown",
      "metadata": {
        "id": "view-in-github",
        "colab_type": "text"
      },
      "source": [
        "<a href=\"https://colab.research.google.com/github/AWH-GlobalPotential-X/AWH-Geo/blob/master/notebooks/Population_noSMDW.ipynb\" target=\"_parent\"><img src=\"https://colab.research.google.com/assets/colab-badge.svg\" alt=\"Open In Colab\"/></a>"
      ]
    },
    {
      "cell_type": "markdown",
      "metadata": {
        "id": "ZBCtYGl58D2a"
      },
      "source": [
        "This tool calculates the world population without safely managed drinking water (SMDW) based on  official estimates from the JMP of WHO.\n",
        "\n",
        "This tool requires a [Google Drive](https://drive.google.com/drive/my-drive) and [Earth Engine Account](https://developers.google.com/earth-engine/)\n",
        "\n",
        "Click \"Connect\" at the top right of this notebook.\n",
        "\n",
        "Then run each of the code blocks below, following instructions."
      ]
    },
    {
      "cell_type": "code",
      "metadata": {
        "id": "YK20oTJbPglx",
        "cellView": "form"
      },
      "source": [
        "#@title Basic setup and earthengine access.\n",
        "\n",
        "print('Welcome to the Population without SMDW tool')\n",
        "\n",
        "# import, authenticate, then initialize EarthEngine module ee\n",
        "# https://developers.google.com/earth-engine/python_install#package-import\n",
        "import ee \n",
        "print('Make sure the EE version is v0.1.215 or greater...')\n",
        "print('Current EE version = v' + ee.__version__)\n",
        "print('')\n",
        "ee.Authenticate()\n",
        "ee.Initialize()\n",
        "\n",
        "worldGeo = ee.Geometry.Polygon( # Created for some masking and geo calcs\n",
        "  coords=[[-180,-90],[-180,0],[-180,90],[-30,90],[90,90],[180,90],\n",
        "          [180,0],[180,-90],[30,-90],[-90,-90],[-180,-90]],\n",
        "  geodesic=False,\n",
        "  proj='EPSG:4326'\n",
        ")\n",
        "\n"
      ],
      "execution_count": null,
      "outputs": []
    },
    {
      "cell_type": "code",
      "metadata": {
        "id": "IBW6C8Jv8PRI",
        "cellView": "form"
      },
      "source": [
        "#@title Click to run calculation\n",
        "\n",
        "\"\"\"\n",
        "This script creates an image representing the best-estimate distribution of the \n",
        "world's 2.2 billion people without SMDW. It applies a weight to a high-resolution\n",
        "population image based on the % proportion of people without SMDW from JMP \n",
        "surveys, created in the JMP_GeoProcessor (on FigShare) and exported as the \n",
        "JMP GeoFabric. \n",
        "\n",
        "Results are created using population data from WorldPop 2017 top-down residential \n",
        "population counts (1km res).\n",
        "\n",
        "First, the JMP GeoFabric is converted into an image, then weighted across the pop image.\n",
        "\"\"\"\n",
        "\n",
        "jmpGeofabric = ee.FeatureCollection('projects/h2e/publication/jmpGeofabric')\n",
        "\n",
        "# JMP GeoFabric converted to image\n",
        "jmpGeofabric_image = jmpGeofabric.reduceToImage(\n",
        "  properties=['WTRST_PER'], \n",
        "  reducer=ee.Reducer.first()\n",
        ").rename('WTRST_PER')\n",
        "\n",
        "# population calcs\n",
        "\n",
        "# World Pop version\n",
        "worldPop_2017 = ee.Image('projects/h2e/publication/ppp_2017_1km_Aggregated')\n",
        "worldPop_2017_scale = worldPop_2017.projection().nominalScale()\n",
        "\n",
        "# calculate water starved population (100 - jmp_safelyManaged) * population of grid cell\n",
        "pop_noSMDW = worldPop_2017.multiply(jmpGeofabric_image.select(['WTRST_PER']\n",
        "  ).divide(100)).int().rename('pop_noSMDW')\n",
        "# log of above\n",
        "popLog_noSMDW = pop_noSMDW.add(1).log10()\n",
        "\n",
        "# Export pop no SMDW WorldPop (default)\n",
        "task1 = ee.batch.Export.image.toDrive(\n",
        "  image=ee.Image(pop_noSMDW),\n",
        "  region=worldGeo,\n",
        "  scale=worldPop_2017_scale.getInfo(),\n",
        "  crs='EPSG:4326',\n",
        "  maxPixels=1e12,\n",
        "  # folder='', # write Drive folder here if desired\n",
        "  description='pop_noSMDW',\n",
        "  fileNamePrefix='pop_noSMDW',\n",
        "  fileFormat='GeoTIFF'\n",
        ")\n",
        "task1.start()\n",
        "\n",
        "# Export log of pop no SMDW\n",
        "task2 = ee.batch.Export.image.toDrive(\n",
        "  image=ee.Image(popLog_noSMDW),\n",
        "  region=worldGeo,\n",
        "  scale=worldPop_2017_scale.getInfo(),\n",
        "  crs='EPSG:4326',\n",
        "  maxPixels=1e12,\n",
        "  # folder='', # write Drive folder here if desired\n",
        "  description='popLog_noSMDW',\n",
        "  fileNamePrefix='popLog_noSMDW',\n",
        "  fileFormat='GeoTIFF'\n",
        ")\n",
        "task2.start()\n"
      ],
      "execution_count": null,
      "outputs": []
    },
    {
      "cell_type": "markdown",
      "metadata": {
        "id": "1LhUVTjnCNWy"
      },
      "source": [
        "This will save as GeoTIFF named \"pop_noSMDW\" and \"popLog_noSMDW\" in your root [Google Drive folder](https://drive.google.com/drive/my-drive). "
      ]
    }
  ]
}
