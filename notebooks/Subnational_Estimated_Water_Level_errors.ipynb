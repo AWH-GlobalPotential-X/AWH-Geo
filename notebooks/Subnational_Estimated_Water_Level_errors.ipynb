{
  "nbformat": 4,
  "nbformat_minor": 0,
  "metadata": {
    "colab": {
      "name": "Subnational Estimated Water Level errors.ipynb",
      "provenance": [],
      "authorship_tag": "ABX9TyN2QS3weppwSfDKkiKAhQSI",
      "include_colab_link": true
    },
    "kernelspec": {
      "name": "python3",
      "display_name": "Python 3"
    }
  },
  "cells": [
    {
      "cell_type": "markdown",
      "metadata": {
        "id": "view-in-github",
        "colab_type": "text"
      },
      "source": [
        "<a href=\"https://colab.research.google.com/github/AWH-GlobalPotential-X/AWH-Geo/blob/main/notebooks/Subnational_Estimated_Water_Level_errors.ipynb\" target=\"_parent\"><img src=\"https://colab.research.google.com/assets/colab-badge.svg\" alt=\"Open In Colab\"/></a>"
      ]
    },
    {
      "cell_type": "markdown",
      "metadata": {
        "id": "jSAwIdZmfJZI"
      },
      "source": [
        "# Subnational Estimated Water Level errors"
      ]
    },
    {
      "cell_type": "code",
      "metadata": {
        "id": "IXG_zXnrdRIK"
      },
      "source": [
        "import matplotlib.pyplot as plt\n",
        "import mizani\n",
        "import numpy as np\n",
        "import pandas as pd\n",
        "import plotnine as gg\n",
        "from matplotlib import colors\n",
        "from scipy import interpolate\n",
        "\n",
        "from IPython.display import display"
      ],
      "execution_count": null,
      "outputs": []
    },
    {
      "cell_type": "code",
      "metadata": {
        "id": "B4y5veyRhbeQ"
      },
      "source": [
        "import io\n",
        "from colabtools import drive"
      ],
      "execution_count": null,
      "outputs": []
    },
    {
      "cell_type": "code",
      "metadata": {
        "id": "CQfFrSfBh2Nr",
        "colab": {
          "height": 229
        },
        "outputId": "b826a655-7b1e-438f-d43b-7625bc820811"
      },
      "source": [
        "content = drive.LoadFile('jmpGeofabric_SNdata.csv')\n",
        "df_all_sub_nationals = pd.read_csv(io.BytesIO(content))\n",
        "df_all_sub_nationals.head()"
      ],
      "execution_count": null,
      "outputs": [
        {
          "output_type": "stream",
          "text": [
            "Beginning OAuth2 authorization process ...\n",
            "Authentication successful.\n"
          ],
          "name": "stdout"
        },
        {
          "output_type": "display_data",
          "data": {
            "application/javascript": [
              "colab.output.allowEphemeralScripts = true;\n",
              "//# sourceURL=js_6e978dd043"
            ],
            "text/plain": [
              "<IPython.core.display.Javascript at 0x7fa4cfec8fd0>"
            ]
          },
          "metadata": {
            "tags": []
          }
        },
        {
          "output_type": "display_data",
          "data": {
            "text/html": [
              "<span id=\"eltpbid_663892169\"> <div id=\"tpbid_663892169\" style=\"background:lightgray;width:50%;border-radius:4pt;overflow:hidden;\"><div id=\"pbid_663892169\" style=\"background:dodgerblue;width:0%;\"><br/></div></div> </span>"
            ],
            "text/plain": [
              "<IPython.core.display.HTML at 0x7fa4cff4acf8>"
            ]
          },
          "metadata": {
            "tags": []
          }
        },
        {
          "output_type": "display_data",
          "data": {
            "application/javascript": [
              "$(\"#tpbid_663892169\")[0].remove()\n",
              "//# sourceURL=js_f9e77f7e5c"
            ],
            "text/plain": [
              "<IPython.core.display.Javascript at 0x7fa4da81f048>"
            ]
          },
          "metadata": {
            "tags": []
          }
        },
        {
          "output_type": "execute_result",
          "data": {
            "text/html": [
              "<div>\n",
              "<style scoped>\n",
              "    .dataframe tbody tr th:only-of-type {\n",
              "        vertical-align: middle;\n",
              "    }\n",
              "\n",
              "    .dataframe tbody tr th {\n",
              "        vertical-align: top;\n",
              "    }\n",
              "\n",
              "    .dataframe thead th {\n",
              "        text-align: right;\n",
              "    }\n",
              "</style>\n",
              "<table border=\"1\" class=\"dataframe\">\n",
              "  <thead>\n",
              "    <tr style=\"text-align: right;\">\n",
              "      <th></th>\n",
              "      <th>ISO3</th>\n",
              "      <th>COUNTRY</th>\n",
              "      <th>JMP_REGNM</th>\n",
              "      <th>ALB_NE</th>\n",
              "      <th>ALB_SE</th>\n",
              "      <th>JMP_ALBSNE</th>\n",
              "      <th>SM_NE</th>\n",
              "      <th>SM_SE</th>\n",
              "    </tr>\n",
              "  </thead>\n",
              "  <tbody>\n",
              "    <tr>\n",
              "      <th>0</th>\n",
              "      <td>CAF</td>\n",
              "      <td>Central African Republic</td>\n",
              "      <td>baminigui bangoran</td>\n",
              "      <td>0</td>\n",
              "      <td>64.441312</td>\n",
              "      <td>64.441312</td>\n",
              "      <td>0</td>\n",
              "      <td>0.0</td>\n",
              "    </tr>\n",
              "    <tr>\n",
              "      <th>1</th>\n",
              "      <td>CAF</td>\n",
              "      <td>Central African Republic</td>\n",
              "      <td>bangui</td>\n",
              "      <td>0</td>\n",
              "      <td>78.325088</td>\n",
              "      <td>78.325088</td>\n",
              "      <td>0</td>\n",
              "      <td>0.0</td>\n",
              "    </tr>\n",
              "    <tr>\n",
              "      <th>2</th>\n",
              "      <td>CAF</td>\n",
              "      <td>Central African Republic</td>\n",
              "      <td>basse kotto</td>\n",
              "      <td>0</td>\n",
              "      <td>20.311748</td>\n",
              "      <td>20.311748</td>\n",
              "      <td>0</td>\n",
              "      <td>0.0</td>\n",
              "    </tr>\n",
              "    <tr>\n",
              "      <th>3</th>\n",
              "      <td>CAF</td>\n",
              "      <td>Central African Republic</td>\n",
              "      <td>haut mbomou</td>\n",
              "      <td>0</td>\n",
              "      <td>44.121118</td>\n",
              "      <td>44.121118</td>\n",
              "      <td>0</td>\n",
              "      <td>0.0</td>\n",
              "    </tr>\n",
              "    <tr>\n",
              "      <th>4</th>\n",
              "      <td>CAF</td>\n",
              "      <td>Central African Republic</td>\n",
              "      <td>haute-kotto</td>\n",
              "      <td>0</td>\n",
              "      <td>53.731287</td>\n",
              "      <td>53.731287</td>\n",
              "      <td>0</td>\n",
              "      <td>0.0</td>\n",
              "    </tr>\n",
              "  </tbody>\n",
              "</table>\n",
              "</div>"
            ],
            "text/plain": [
              "  ISO3                   COUNTRY           JMP_REGNM  ...  JMP_ALBSNE  SM_NE  SM_SE\n",
              "0  CAF  Central African Republic  baminigui bangoran  ...   64.441312      0    0.0\n",
              "1  CAF  Central African Republic              bangui  ...   78.325088      0    0.0\n",
              "2  CAF  Central African Republic         basse kotto  ...   20.311748      0    0.0\n",
              "3  CAF  Central African Republic         haut mbomou  ...   44.121118      0    0.0\n",
              "4  CAF  Central African Republic         haute-kotto  ...   53.731287      0    0.0\n",
              "\n",
              "[5 rows x 8 columns]"
            ]
          },
          "metadata": {
            "tags": []
          },
          "execution_count": 198
        }
      ]
    },
    {
      "cell_type": "code",
      "metadata": {
        "id": "LJJ73HNKgIhQ",
        "colab": {
          "height": 195
        },
        "outputId": "d55d1fbb-2759-42f8-d12b-b4dc91a20757"
      },
      "source": [
        "content = drive.LoadFile('SMDW_subnational.csv')\n",
        "df_sub_nationals = pd.read_csv(io.BytesIO(content))\n",
        "df_sub_nationals.head()"
      ],
      "execution_count": null,
      "outputs": [
        {
          "output_type": "display_data",
          "data": {
            "application/javascript": [
              "colab.output.allowEphemeralScripts = true;\n",
              "//# sourceURL=js_6e978dd043"
            ],
            "text/plain": [
              "<IPython.core.display.Javascript at 0x7fa4da73ce48>"
            ]
          },
          "metadata": {
            "tags": []
          }
        },
        {
          "output_type": "display_data",
          "data": {
            "text/html": [
              "<span id=\"eltpbid_663892170\"> <div id=\"tpbid_663892170\" style=\"background:lightgray;width:50%;border-radius:4pt;overflow:hidden;\"><div id=\"pbid_663892170\" style=\"background:dodgerblue;width:0%;\"><br/></div></div> </span>"
            ],
            "text/plain": [
              "<IPython.core.display.HTML at 0x7fa4da73ce48>"
            ]
          },
          "metadata": {
            "tags": []
          }
        },
        {
          "output_type": "display_data",
          "data": {
            "application/javascript": [
              "$(\"#tpbid_663892170\")[0].remove()\n",
              "//# sourceURL=js_be1ffb6b7f"
            ],
            "text/plain": [
              "<IPython.core.display.Javascript at 0x7fa501c9e208>"
            ]
          },
          "metadata": {
            "tags": []
          }
        },
        {
          "output_type": "execute_result",
          "data": {
            "text/html": [
              "<div>\n",
              "<style scoped>\n",
              "    .dataframe tbody tr th:only-of-type {\n",
              "        vertical-align: middle;\n",
              "    }\n",
              "\n",
              "    .dataframe tbody tr th {\n",
              "        vertical-align: top;\n",
              "    }\n",
              "\n",
              "    .dataframe thead th {\n",
              "        text-align: right;\n",
              "    }\n",
              "</style>\n",
              "<table border=\"1\" class=\"dataframe\">\n",
              "  <thead>\n",
              "    <tr style=\"text-align: right;\">\n",
              "      <th></th>\n",
              "      <th>country</th>\n",
              "      <th>region_string</th>\n",
              "      <th>safelymanaged</th>\n",
              "    </tr>\n",
              "  </thead>\n",
              "  <tbody>\n",
              "    <tr>\n",
              "      <th>0</th>\n",
              "      <td>Bangladesh</td>\n",
              "      <td>Barishal</td>\n",
              "      <td>0.35</td>\n",
              "    </tr>\n",
              "    <tr>\n",
              "      <th>1</th>\n",
              "      <td>Bangladesh</td>\n",
              "      <td>Chattogram</td>\n",
              "      <td>0.41</td>\n",
              "    </tr>\n",
              "    <tr>\n",
              "      <th>2</th>\n",
              "      <td>Bangladesh</td>\n",
              "      <td>Dhaka</td>\n",
              "      <td>0.41</td>\n",
              "    </tr>\n",
              "    <tr>\n",
              "      <th>3</th>\n",
              "      <td>Bangladesh</td>\n",
              "      <td>Khulna</td>\n",
              "      <td>0.46</td>\n",
              "    </tr>\n",
              "    <tr>\n",
              "      <th>4</th>\n",
              "      <td>Bangladesh</td>\n",
              "      <td>Mymenshing</td>\n",
              "      <td>0.45</td>\n",
              "    </tr>\n",
              "  </tbody>\n",
              "</table>\n",
              "</div>"
            ],
            "text/plain": [
              "      country region_string  safelymanaged\n",
              "0  Bangladesh      Barishal           0.35\n",
              "1  Bangladesh    Chattogram           0.41\n",
              "2  Bangladesh         Dhaka           0.41\n",
              "3  Bangladesh        Khulna           0.46\n",
              "4  Bangladesh    Mymenshing           0.45"
            ]
          },
          "metadata": {
            "tags": []
          },
          "execution_count": 199
        }
      ]
    },
    {
      "cell_type": "code",
      "metadata": {
        "id": "k-0tJ8qjnLhO",
        "outputId": "eb05630e-9bb7-4598-ea5e-311408def963"
      },
      "source": [
        "df_agg_ref = df_all_sub_nationals.groupby('COUNTRY').SM_SE.mean().reset_index(name='ref Safely Managed %')\n",
        "df_agg_estimated = (df_sub_nationals.groupby('country').safelymanaged.mean() * 100).reset_index(name='estimate Safely Managed %')\n",
        "df_agg = df_agg_ref.merge(df_agg_estimated, left_on='COUNTRY', right_on='country')\n",
        "\n",
        "df_tidy = df_agg.rename(columns={'estimate Safely Managed %': 'estimate', 'ref Safely Managed %': 'ref'})\n",
        "\n",
        "err = (df_tidy['estimate'] - df_tidy['ref'])\n",
        "print(f'Error: mean={err.mean()} stddev={err.std()}')"
      ],
      "execution_count": null,
      "outputs": [
        {
          "output_type": "stream",
          "text": [
            "Error: mean=-17.733127371205153 stddev=8.368459053956725\n"
          ],
          "name": "stdout"
        }
      ]
    },
    {
      "cell_type": "code",
      "metadata": {
        "id": "WBC9x_XAWqnG",
        "outputId": "9099c39c-80bd-489b-f1cd-dd37055a36c8"
      },
      "source": [
        "import statsmodels.formula.api as smf\n",
        "\n",
        "model = smf.ols(formula='estimate ~ ref', data=df_tidy)\n",
        "result = model.fit()\n",
        "print(result.summary())"
      ],
      "execution_count": null,
      "outputs": [
        {
          "output_type": "stream",
          "text": [
            "                            OLS Regression Results                            \n",
            "==============================================================================\n",
            "Dep. Variable:               estimate   R-squared:                       0.868\n",
            "Model:                            OLS   Adj. R-squared:                  0.858\n",
            "Method:                 Least Squares   F-statistic:                     85.85\n",
            "Date:                Tue, 12 Jan 2021   Prob (F-statistic):           4.33e-07\n",
            "Time:                        14:16:39   Log-Likelihood:                -48.936\n",
            "No. Observations:                  15   AIC:                             101.9\n",
            "Df Residuals:                      13   BIC:                             103.3\n",
            "Df Model:                           1                                         \n",
            "Covariance Type:            nonrobust                                         \n",
            "==============================================================================\n",
            "                 coef    std err          t      P>|t|      [0.025      0.975]\n",
            "------------------------------------------------------------------------------\n",
            "Intercept     -7.7725      3.879     -2.004      0.066     -16.153       0.608\n",
            "ref            0.7630      0.082      9.266      0.000       0.585       0.941\n",
            "==============================================================================\n",
            "Omnibus:                        2.919   Durbin-Watson:                   2.118\n",
            "Prob(Omnibus):                  0.232   Jarque-Bera (JB):                1.552\n",
            "Skew:                           0.787   Prob(JB):                        0.460\n",
            "Kurtosis:                       3.055   Cond. No.                         104.\n",
            "==============================================================================\n",
            "\n",
            "Notes:\n",
            "[1] Standard Errors assume that the covariance matrix of the errors is correctly specified.\n"
          ],
          "name": "stdout"
        },
        {
          "output_type": "stream",
          "text": [
            "/export/hda3/borglet/remote_hdd_fs_dirs/0.colab_kernel_deepmind_py3_jacksonlord.kernel.jacksonlord.324183883028.14b334fb3717c109/mount/server/dm_notebook3.par/google3/third_party/py/scipy/stats/stats.py:1416: UserWarning: kurtosistest only valid for n>=20 ... continuing anyway, n=15\n"
          ],
          "name": "stderr"
        }
      ]
    },
    {
      "cell_type": "code",
      "metadata": {
        "id": "mfI-IMnnKZUn",
        "outputId": "c426ac1d-27a7-450d-8ef7-dd06cf25137a"
      },
      "source": [
        "result.params"
      ],
      "execution_count": null,
      "outputs": [
        {
          "output_type": "execute_result",
          "data": {
            "text/plain": [
              "Intercept   -7.772493\n",
              "ref          0.762989\n",
              "dtype: float64"
            ]
          },
          "metadata": {
            "tags": []
          },
          "execution_count": 202
        }
      ]
    },
    {
      "cell_type": "code",
      "metadata": {
        "id": "AmH1hCQzpLlZ",
        "colab": {
          "height": 541
        },
        "outputId": "ae06a4ed-1d92-48ea-8857-d957d784ed6a"
      },
      "source": [
        "p = (\n",
        "    gg.ggplot(df_agg, gg.aes(x='ref Safely Managed %', y='estimate Safely Managed %'))\n",
        "    + gg.geom_point(gg.aes(color='country'), size=4, alpha=0.6)\n",
        "    + gg.geom_text(gg.aes(label='country', color='country'), nudge_y=3)\n",
        "    + gg.geom_line(pd.DataFrame({'x': [0, 100], 'y': [0, 100]}), gg.aes(x='x', y='y'), color='black', alpha=0.6)\n",
        "    + gg.lims(x=(0, 100), y=(0, 100))\n",
        "    + gg.theme_minimal()\n",
        "    + gg.theme(figure_size=(8, 8))\n",
        ")\n",
        "\n",
        "print(p)"
      ],
      "execution_count": null,
      "outputs": [
        {
          "output_type": "display_data",
          "data": {
            "image/png": "[encoded data removed]",
            "text/plain": [
              "<Figure size 800x800 with 1 Axes>"
            ]
          },
          "metadata": {
            "tags": []
          }
        },
        {
          "output_type": "stream",
          "text": [
            "<ggplot: (-9223363265238124891)>\n"
          ],
          "name": "stdout"
        }
      ]
    }
  ]
}
